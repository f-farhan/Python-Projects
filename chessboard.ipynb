{
  "nbformat": 4,
  "nbformat_minor": 0,
  "metadata": {
    "colab": {
      "name": "chessboard.ipynb",
      "provenance": [],
      "authorship_tag": "ABX9TyPQOX/FvMeJSHyZTvLOuKcp",
      "include_colab_link": true
    },
    "kernelspec": {
      "name": "python3",
      "display_name": "Python 3"
    }
  },
  "cells": [
    {
      "cell_type": "markdown",
      "metadata": {
        "id": "view-in-github",
        "colab_type": "text"
      },
      "source": [
        "<a href=\"https://colab.research.google.com/github/ffarhaaan/Python-Projects/blob/master/chessboard.ipynb\" target=\"_parent\"><img src=\"https://colab.research.google.com/assets/colab-badge.svg\" alt=\"Open In Colab\"/></a>"
      ]
    },
    {
      "cell_type": "code",
      "metadata": {
        "id": "834rkyYysbQz",
        "colab": {
          "base_uri": "https://localhost:8080/"
        },
        "outputId": "3a605f11-15c8-4575-ea46-4da8415c8f43"
      },
      "source": [
        "#Importing Modules\n",
        "import matplotlib.pyplot as plt\n",
        "import numpy as np\n",
        "from matplotlib.colors import LogNorm\n",
        "print(\"Modules Imported\")"
      ],
      "execution_count": 1,
      "outputs": [
        {
          "output_type": "stream",
          "text": [
            "Modules Imported\n"
          ],
          "name": "stdout"
        }
      ]
    },
    {
      "cell_type": "code",
      "metadata": {
        "colab": {
          "base_uri": "https://localhost:8080/",
          "height": 265
        },
        "id": "WHnPfu6zpGf2",
        "outputId": "868d4fb2-f4b8-459c-f1d1-0d7a5f072c5b"
      },
      "source": [
        "dx, dy = 0.015, 0.05\r\n",
        "x = np.arange(-4.0, 4.0, dx)\r\n",
        "y= np.arange(-4.0, 4.0, dy)\r\n",
        "X, Y = np.meshgrid(x,y)\r\n",
        "extent = np.min(x), np.max(x), np.min(y), np.max(y)\r\n",
        "Z1 = np.add.outer(range(8), range(8))%2\r\n",
        "plt.imshow(Z1, cmap=\"binary_r\",\r\n",
        "           interpolation='nearest',\r\n",
        "           extent=extent, alpha=1)\r\n",
        "def chessboardff(x,y):\r\n",
        "  return(1-x/2 + x**5 + y**6) * np.exp(-(x**2+y**2))\r\n",
        "Z2 = chessboardff(X,Y) "
      ],
      "execution_count": 3,
      "outputs": [
        {
          "output_type": "display_data",
          "data": {
            "image/png": "[encoded data removed]",
            "text/plain": [
              "<Figure size 432x288 with 1 Axes>"
            ]
          },
          "metadata": {
            "tags": [],
            "needs_background": "light"
          }
        }
      ]
    },
    {
      "cell_type": "code",
      "metadata": {
        "id": "H3__tTaerfND"
      },
      "source": [
        ""
      ],
      "execution_count": null,
      "outputs": []
    }
  ]
}